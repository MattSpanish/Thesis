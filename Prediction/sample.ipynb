{
 "cells": [
  {
   "cell_type": "code",
   "execution_count": 7,
   "metadata": {},
   "outputs": [
    {
     "data": {
      "application/vnd.jupyter.widget-view+json": {
       "model_id": "9a038a2a09004da3b72dfd1dc6d40274",
       "version_major": 2,
       "version_minor": 0
      },
      "text/plain": [
       "FileUpload(value=(), accept='.csv', description='Upload')"
      ]
     },
     "metadata": {},
     "output_type": "display_data"
    },
    {
     "data": {
      "application/vnd.jupyter.widget-view+json": {
       "model_id": "731ebc30973d4075bda00b10bbf6aba0",
       "version_major": 2,
       "version_minor": 0
      },
      "text/plain": [
       "Output()"
      ]
     },
     "metadata": {},
     "output_type": "display_data"
    }
   ],
   "source": [
    "import matplotlib.pyplot as plt\n",
    "import pandas as pd\n",
    "import statsmodels.api as sm\n",
    "import ipywidgets as widgets\n",
    "from IPython.display import display, clear_output\n",
    "from io import StringIO\n",
    "\n",
    "# Function to generate the plot\n",
    "def generate_plot(df):\n",
    "    # Ensure all relevant columns are numeric, excluding non-relevant columns\n",
    "    df[['ENROLLMENT', 'SECTION', 'CLASS SIZE', 'PROF']] = df[['ENROLLMENT', 'SECTION', 'CLASS SIZE', 'PROF']].apply(pd.to_numeric, errors='coerce')\n",
    "\n",
    "    # Drop rows with missing values (optional, you could also fill them)\n",
    "    df = df.dropna(subset=['ENROLLMENT', 'SECTION', 'CLASS SIZE', 'PROF'])\n",
    "\n",
    "    # Define the dependent variable (Y) and independent variables (X)\n",
    "    Y = df['PROF']  # Dependent variable\n",
    "    X = df[['ENROLLMENT', 'SECTION', 'CLASS SIZE']]  # Independent variables\n",
    "\n",
    "    # Add a constant to the independent variables matrix (required for statsmodels)\n",
    "    X = sm.add_constant(X)\n",
    "\n",
    "    # Fit the regression model\n",
    "    model = sm.OLS(Y, X).fit()\n",
    "\n",
    "    # Make predictions using the model\n",
    "    df['FORECASTED PROFESSOR'] = model.predict(X)\n",
    "\n",
    "    # Combine date and enrollment for plotting\n",
    "    df['DATE'] = pd.to_datetime(df['DATE'])  # Assuming 'DATE' is the column name containing the date\n",
    "    df['DATE_ENROLLMENT'] = df['DATE'].dt.strftime('%Y-%m-%d') + ' (' + df['ENROLLMENT'].astype(str) + ')'\n",
    "\n",
    "    # Plot the regression\n",
    "    plt.figure(figsize=(10, 6))\n",
    "    plt.plot(df['DATE_ENROLLMENT'], df['PROF'], color='blue', label='Actual')  # Plot the actual values as a regression line\n",
    "    plt.scatter(df['DATE_ENROLLMENT'], df['FORECASTED PROFESSOR'], color='red', label='Predicted', marker='o')  # Plot the predicted values as bullet points\n",
    "    plt.title('Regression Plot with Date and Enrollment')\n",
    "    plt.xlabel('Date and Enrollment')\n",
    "    plt.ylabel('Professor')\n",
    "    plt.legend()\n",
    "    plt.grid(True)\n",
    "    plt.xticks(rotation=45)  # Rotate x-axis labels for better readability\n",
    "\n",
    "    plt.tight_layout()  # Adjust layout to prevent clipping of labels\n",
    "\n",
    "    # Display the plot\n",
    "    plt.show()\n",
    "\n",
    "# Function to handle file upload and update plot\n",
    "def on_upload_change(change):\n",
    "    if change['new']:\n",
    "        # Read the uploaded file into a pandas DataFrame\n",
    "        content = change['new'][0]['content']\n",
    "        df = pd.read_csv(StringIO(content.decode('utf-8')))\n",
    "\n",
    "        # Clear the current output and generate the plot with new data\n",
    "        with output:\n",
    "            clear_output(wait=True)\n",
    "            generate_plot(df)\n",
    "\n",
    "# Create file upload widget\n",
    "upload = widgets.FileUpload(\n",
    "    accept='.csv',  # Accept only .csv files\n",
    "    multiple=False  # Do not allow multiple files\n",
    ")\n",
    "\n",
    "# Create output widget to display the plot\n",
    "output = widgets.Output()\n",
    "\n",
    "# Observe changes in the file upload widget\n",
    "upload.observe(on_upload_change, names='value')\n",
    "\n",
    "# Display the widgets\n",
    "display(upload, output)\n"
   ]
  }
 ],
 "metadata": {
  "kernelspec": {
   "display_name": "Python 3",
   "language": "python",
   "name": "python3"
  },
  "language_info": {
   "codemirror_mode": {
    "name": "ipython",
    "version": 3
   },
   "file_extension": ".py",
   "mimetype": "text/x-python",
   "name": "python",
   "nbconvert_exporter": "python",
   "pygments_lexer": "ipython3",
   "version": "3.12.0"
  }
 },
 "nbformat": 4,
 "nbformat_minor": 2
}
